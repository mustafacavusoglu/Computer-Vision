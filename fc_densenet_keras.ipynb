{
  "nbformat": 4,
  "nbformat_minor": 0,
  "metadata": {
    "colab": {
      "name": "fc_densenet_keras.ipynb",
      "provenance": [],
      "collapsed_sections": [],
      "authorship_tag": "ABX9TyN2d7GDYB2nuO7n1PnmiXpr",
      "include_colab_link": true
    },
    "kernelspec": {
      "name": "python3",
      "display_name": "Python 3"
    },
    "accelerator": "GPU"
  },
  "cells": [
    {
      "cell_type": "markdown",
      "metadata": {
        "id": "view-in-github",
        "colab_type": "text"
      },
      "source": [
        "<a href=\"https://colab.research.google.com/github/mustafacavusoglu/Computer-Vision/blob/main/fc_densenet_keras.ipynb\" target=\"_parent\"><img src=\"https://colab.research.google.com/assets/colab-badge.svg\" alt=\"Open In Colab\"/></a>"
      ]
    },
    {
      "cell_type": "code",
      "metadata": {
        "colab": {
          "base_uri": "https://localhost:8080/"
        },
        "id": "A_EyYSiGKMhK",
        "outputId": "23a26cab-32bb-4478-9160-03ca12f9cf4c"
      },
      "source": [
        "from google.colab import drive\n",
        "drive.mount('/content/drive')"
      ],
      "execution_count": null,
      "outputs": [
        {
          "output_type": "stream",
          "text": [
            "Drive already mounted at /content/drive; to attempt to forcibly remount, call drive.mount(\"/content/drive\", force_remount=True).\n"
          ],
          "name": "stdout"
        }
      ]
    },
    {
      "cell_type": "code",
      "metadata": {
        "colab": {
          "base_uri": "https://localhost:8080/"
        },
        "id": "POahniC9fTeC",
        "outputId": "72077f0c-f154-4745-bf90-f0299051fb64"
      },
      "source": [
        "import torch\r\n",
        "torch.cuda.get_device_name()\r\n",
        "torch.cuda.get_device_capability()"
      ],
      "execution_count": null,
      "outputs": [
        {
          "output_type": "execute_result",
          "data": {
            "text/plain": [
              "(7, 5)"
            ]
          },
          "metadata": {
            "tags": []
          },
          "execution_count": 7
        }
      ]
    },
    {
      "cell_type": "code",
      "metadata": {
        "colab": {
          "base_uri": "https://localhost:8080/"
        },
        "id": "YLa3eTdRfuiv",
        "outputId": "a51443e5-6062-44f2-90aa-627c43ac6812"
      },
      "source": [
        "!nvidia-smi -L\r\n",
        "!pip install gputil\r\n",
        "import GPUtil as GPU\r\n",
        "GPUs = GPU.getGPUs()\r\n",
        "# XXX: only one GPU on Colab and isn’t guaranteed\r\n",
        "gpu = GPUs[0]\r\n",
        "print(\"GPU RAM Free: {0:.0f}MB | {1:} |Used: {2:.0f}MB | Util {3:3.0f}% | Total {4:.0f}MB\".format(gpu.memoryFree,gpu.name, gpu.memoryUsed, gpu.memoryUtil*100, gpu.memoryTotal))\r\n"
      ],
      "execution_count": null,
      "outputs": [
        {
          "output_type": "stream",
          "text": [
            "GPU 0: Tesla T4 (UUID: GPU-0f62c884-b4b7-023d-bce3-5f8dd1c9e690)\n",
            "Requirement already satisfied: gputil in /usr/local/lib/python3.6/dist-packages (1.4.0)\n",
            "GPU RAM Free: 15069MB | Tesla T4 |Used: 10MB | Util   0% | Total 15079MB\n"
          ],
          "name": "stdout"
        }
      ]
    },
    {
      "cell_type": "code",
      "metadata": {
        "colab": {
          "base_uri": "https://localhost:8080/"
        },
        "id": "j68GQ4L1hXlM",
        "outputId": "582b5948-6493-435c-efab-ea0171640b33"
      },
      "source": [
        "# memory footprint support libraries/code\r\n"
      ],
      "execution_count": null,
      "outputs": [
        {
          "output_type": "stream",
          "text": [
            "Requirement already satisfied: gputil in /usr/local/lib/python3.6/dist-packages (1.4.0)\n",
            "GPU RAM Free: 15069MB | Used: 10MB | Util   0% | Total 15079MB\n"
          ],
          "name": "stdout"
        }
      ]
    },
    {
      "cell_type": "code",
      "metadata": {
        "colab": {
          "base_uri": "https://localhost:8080/",
          "height": 35
        },
        "id": "QPiwhW68KUBP",
        "outputId": "32866c97-fe42-4a9a-f6cf-2ff86ca4d13f"
      },
      "source": [
        "import os\n",
        "# os.chdir(\"drive/MyDrive/ColabNotebooks/unet_uydu\")\n",
        "os.getcwd()"
      ],
      "execution_count": null,
      "outputs": [
        {
          "output_type": "execute_result",
          "data": {
            "application/vnd.google.colaboratory.intrinsic+json": {
              "type": "string"
            },
            "text/plain": [
              "'/content/drive/My Drive/ColabNotebooks/unet_uydu/veriler'"
            ]
          },
          "metadata": {
            "tags": []
          },
          "execution_count": 55
        }
      ]
    },
    {
      "cell_type": "code",
      "metadata": {
        "id": "GRzIdqeDKUNm"
      },
      "source": [
        "from __future__ import absolute_import\n",
        "from __future__ import print_function\n",
        "\n",
        "import keras.models as models\n",
        "from keras.layers.core import Dense, Dropout, Activation, Flatten, Reshape, Permute\n",
        "from keras.layers.convolutional import MaxPooling2D, UpSampling2D, Cropping2D, AveragePooling2D\n",
        "from keras.layers.normalization import BatchNormalization\n",
        "from keras.layers import Conv2D, Conv2DTranspose, Conv3D, Lambda\n",
        "from keras import backend as K\n",
        "\n",
        "from keras.models import Model\n",
        "from keras.layers import Input, concatenate, Add\n",
        "from keras.regularizers import l2\n",
        "import json"
      ],
      "execution_count": null,
      "outputs": []
    },
    {
      "cell_type": "code",
      "metadata": {
        "id": "ttQ2FryTKtvt"
      },
      "source": [
        "def BN_ReLU_Conv(inputs, n_filters, filter_size=3, dropout_p=0.2):\n",
        "  img = BatchNormalization()(inputs)\n",
        "  img = Activation('relu')(img)\n",
        "  img = Conv2D(n_filters, filter_size, padding='same', kernel_initializer='he_uniform')(img)\n",
        "  if dropout_p != 0.0:\n",
        "      img = Dropout(dropout_p)(img)\n",
        "  return img\n",
        "\n",
        "def TransitionDown(inputs, n_filters, dropout_p=0.2):\n",
        "  img = BN_ReLU_Conv(inputs, n_filters, filter_size=1, dropout_p=dropout_p)\n",
        "  img = MaxPooling2D((2,2))(img)\n",
        "  return img\n",
        "\n",
        "def TransitionUp(skip_connection, block_to_upsample, n_filters_keep):\n",
        "  \n",
        "  img = Conv2DTranspose(n_filters_keep, kernel_size=3, strides=2, padding='same', kernel_initializer='he_uniform')(block_to_upsample)\n",
        "  img = concatenate([img, skip_connection], axis=-1)\n",
        "  return img\n",
        "\n",
        "def SoftmaxLayer(inputs, n_classes):\n",
        "    \n",
        "  img = Conv2D(n_classes, kernel_size=1, padding='same', kernel_initializer='he_uniform')(inputs)\n",
        "#    l = Reshape((-1, n_classes))(l)\n",
        "  img = Activation('sigmoid')(img)\n",
        "  return img"
      ],
      "execution_count": null,
      "outputs": []
    },
    {
      "cell_type": "code",
      "metadata": {
        "id": "crmjgHdMR527"
      },
      "source": [
        "def Tiramisu(\n",
        "        input_shape=(512,512,3),\n",
        "        n_classes = 2,\n",
        "        n_filters_first_conv = 48,\n",
        "        havuz_sayisi = 5,\n",
        "        growth_rate = 12 ,\n",
        "        block_sayisi = [5,5,5,5,5,12,5,5,5,5,5],\n",
        "        dropout_p = 0.2\n",
        "        ):\n",
        "    \n",
        "        \n",
        "    #####################\n",
        "    # First Convolution #\n",
        "    #####################        \n",
        "    inputs = Input(shape=input_shape)\n",
        "    stack = Conv2D(filters=3, kernel_size=3, padding='same', kernel_initializer='he_uniform')(inputs)\n",
        "    n_filters = 3*growth_rate\n",
        "\n",
        "    #####################\n",
        "# Downsampling path #\n",
        "#####################     \n",
        "    skip_connection_list = []\n",
        "    \n",
        "    for i in range(havuz_sayisi):\n",
        "        for j in range(block_sayisi[i]):\n",
        "            l = BN_ReLU_Conv(stack, growth_rate, dropout_p=dropout_p)\n",
        "            stack = concatenate([stack, l])\n",
        "            n_filters  += growth_rate\n",
        "        skip_connection_list.append(stack)        \n",
        "        stack = TransitionDown(stack, n_filters, dropout_p)\n",
        "    skip_connection_list = skip_connection_list[::-1]\n",
        "\n",
        "    \n",
        "    #####################\n",
        "    #    Bottleneck     #\n",
        "    #####################     \n",
        "    block_to_upsample=[]\n",
        "    \n",
        "    for j in range(block_sayisi[havuz_sayisi]):\n",
        "        l = BN_ReLU_Conv(stack, growth_rate, dropout_p=dropout_p)\n",
        "        block_to_upsample.append(l)\n",
        "        stack = concatenate([stack,l])\n",
        "    block_to_upsample = concatenate(block_to_upsample)\n",
        "\n",
        "   \n",
        "    #####################\n",
        "    #  Upsampling path  #\n",
        "    #####################\n",
        "    for i in range(havuz_sayisi):\n",
        "        n_filters_keep = growth_rate * block_sayisi[havuz_sayisi + i ]\n",
        "        stack = TransitionUp(skip_connection_list[i], block_to_upsample, n_filters_keep)\n",
        "        \n",
        "        block_to_upsample = []\n",
        "        for j in range(block_sayisi[ havuz_sayisi + i + 1 ]):\n",
        "            l = BN_ReLU_Conv(stack, growth_rate, dropout_p=dropout_p)\n",
        "            block_to_upsample.append(l)\n",
        "            stack = concatenate([stack, l])\n",
        "        block_to_upsample = concatenate(block_to_upsample)\n",
        "    \n",
        "    #####################\n",
        "    #  Softmax          #\n",
        "    #####################\n",
        "    output = SoftmaxLayer(stack, n_classes)            \n",
        "    model=Model(inputs = inputs, outputs = output)    \n",
        "    # model.summary()\n",
        "    \n",
        "    return model"
      ],
      "execution_count": null,
      "outputs": []
    },
    {
      "cell_type": "code",
      "metadata": {
        "id": "TfZvej2HdRUx"
      },
      "source": [
        "fcDensenet = Tiramisu()\n",
        "#fcDensenet.summary()"
      ],
      "execution_count": null,
      "outputs": []
    },
    {
      "cell_type": "code",
      "metadata": {
        "id": "gwvqokNIeRZT"
      },
      "source": [
        "import numpy as np\n",
        "import pandas as pd\n",
        "import matplotlib.pyplot as plt"
      ],
      "execution_count": null,
      "outputs": []
    },
    {
      "cell_type": "code",
      "metadata": {
        "id": "7shco23Gtk1x"
      },
      "source": [
        ""
      ],
      "execution_count": null,
      "outputs": []
    },
    {
      "cell_type": "code",
      "metadata": {
        "colab": {
          "base_uri": "https://localhost:8080/"
        },
        "id": "AEMyC3C_dZaX",
        "outputId": "0c1be4ab-8c47-4c30-ef63-4c26faad10de"
      },
      "source": [
        "#os.chdir(\"veriler\")\n",
        "train_x= np.load('train_images.npy')\n",
        "train_y= np.load('train_labels.npy')\n",
        "\n",
        "val_x= np.load('validation_images.npy')\n",
        "val_y= np.load('validation_labels.npy')\n",
        "\n",
        "\n",
        "print(val_x.shape)\n",
        "print(val_y.shape)"
      ],
      "execution_count": null,
      "outputs": [
        {
          "output_type": "stream",
          "text": [
            "(93, 512, 512, 3)\n",
            "(93, 512, 512, 2)\n"
          ],
          "name": "stdout"
        }
      ]
    },
    {
      "cell_type": "code",
      "metadata": {
        "colab": {
          "base_uri": "https://localhost:8080/",
          "height": 286
        },
        "id": "BWly49cgd3cr",
        "outputId": "92deb69a-fe94-470f-f279-913b68f3f7f1"
      },
      "source": [
        "img = train_x[4,:,:,0]\n",
        "img1 = val_x[1,:,:,0]\n",
        "\n",
        "plt.imshow(img1)\n",
        "# plt.imshow(img1)\n"
      ],
      "execution_count": null,
      "outputs": [
        {
          "output_type": "execute_result",
          "data": {
            "text/plain": [
              "<matplotlib.image.AxesImage at 0x7f4a1460a3c8>"
            ]
          },
          "metadata": {
            "tags": []
          },
          "execution_count": 112
        },
        {
          "output_type": "display_data",
          "data": {
            "image/png": "[encoded data removed]",
            "text/plain": [
              "<Figure size 432x288 with 1 Axes>"
            ]
          },
          "metadata": {
            "tags": [],
            "needs_background": "light"
          }
        }
      ]
    },
    {
      "cell_type": "code",
      "metadata": {
        "id": "hN1Y0UnBekKA"
      },
      "source": [
        "from keras.optimizers import RMSprop\n",
        "optimizer = RMSprop(learning_rate=0.0002)\n",
        "fcDensenet.compile(loss=\"binary_crossentropy\", optimizer=optimizer, metrics=[\"accuracy\"])"
      ],
      "execution_count": null,
      "outputs": []
    },
    {
      "cell_type": "code",
      "metadata": {
        "colab": {
          "base_uri": "https://localhost:8080/"
        },
        "id": "galNXAlCfwju",
        "outputId": "b7261baa-3d30-4b16-bab2-ced135b17a52"
      },
      "source": [
        "nb_epoch = 10\n",
        "batch_size = 2\n",
        "\n",
        "\n",
        "history = fcDensenet.fit(train_x, train_y, \n",
        "                 batch_size=batch_size, \n",
        "                 epochs=nb_epoch, verbose=1,\n",
        "                 validation_data=(val_x, val_y)\n",
        "                 )"
      ],
      "execution_count": null,
      "outputs": [
        {
          "output_type": "stream",
          "text": [
            "Epoch 1/10\n",
            "413/413 [==============================] - 356s 863ms/step - loss: 21.9243 - accuracy: 0.9539 - val_loss: 2.2598 - val_accuracy: 0.9546\n",
            "Epoch 2/10\n",
            "413/413 [==============================] - 355s 859ms/step - loss: 1.7016 - accuracy: 0.9863 - val_loss: 2.2044 - val_accuracy: 0.9693\n",
            "Epoch 3/10\n",
            "413/413 [==============================] - 355s 860ms/step - loss: 1.3727 - accuracy: 0.9872 - val_loss: 1.4143 - val_accuracy: 0.9551\n",
            "Epoch 4/10\n",
            "413/413 [==============================] - 355s 860ms/step - loss: 1.2525 - accuracy: 0.9862 - val_loss: 1.3314 - val_accuracy: 0.9760\n",
            "Epoch 5/10\n",
            "413/413 [==============================] - 355s 860ms/step - loss: 1.1682 - accuracy: 0.9886 - val_loss: 1.0932 - val_accuracy: 0.9728\n",
            "Epoch 6/10\n",
            "413/413 [==============================] - 356s 861ms/step - loss: 1.1028 - accuracy: 0.9869 - val_loss: 0.9873 - val_accuracy: 0.9737\n",
            "Epoch 7/10\n",
            "413/413 [==============================] - 356s 861ms/step - loss: 1.0142 - accuracy: 0.9882 - val_loss: 0.9531 - val_accuracy: 0.9753\n",
            "Epoch 8/10\n",
            "413/413 [==============================] - 356s 861ms/step - loss: 1.0258 - accuracy: 0.9886 - val_loss: 1.0522 - val_accuracy: 0.9610\n",
            "Epoch 9/10\n",
            "413/413 [==============================] - 355s 860ms/step - loss: 0.9325 - accuracy: 0.9894 - val_loss: 0.8904 - val_accuracy: 0.9746\n",
            "Epoch 10/10\n",
            "413/413 [==============================] - 356s 861ms/step - loss: 0.9537 - accuracy: 0.9893 - val_loss: 1.5713 - val_accuracy: 0.9272\n"
          ],
          "name": "stdout"
        }
      ]
    },
    {
      "cell_type": "code",
      "metadata": {
        "colab": {
          "base_uri": "https://localhost:8080/",
          "height": 312
        },
        "id": "RwFy2TwhgXcX",
        "outputId": "0a64fe64-ba8b-4dba-a401-fdab6634457c"
      },
      "source": [
        "plt.plot(history.history['accuracy'])\n",
        "plt.plot(history.history['val_accuracy'])\n",
        "plt.title('Model Accuracy')\n",
        "plt.ylabel('Accuracy')\n",
        "plt.xlabel('Epoch')\n",
        "plt.legend(['Train', 'Validation'], loc='upper left')\n"
      ],
      "execution_count": null,
      "outputs": [
        {
          "output_type": "execute_result",
          "data": {
            "text/plain": [
              "<matplotlib.legend.Legend at 0x7f4a1f659fd0>"
            ]
          },
          "metadata": {
            "tags": []
          },
          "execution_count": 85
        },
        {
          "output_type": "display_data",
          "data": {
            "image/png": "[encoded data removed]",
            "text/plain": [
              "<Figure size 432x288 with 1 Axes>"
            ]
          },
          "metadata": {
            "tags": [],
            "needs_background": "light"
          }
        }
      ]
    },
    {
      "cell_type": "code",
      "metadata": {
        "id": "_i1VW5dx9Sar"
      },
      "source": [
        "os.chdir(\"../testsonuclardensenet\")\n",
        "import csv\n",
        "import keras\n",
        "from keras.models import model_from_json\n",
        "from sklearn.utils import class_weight"
      ],
      "execution_count": null,
      "outputs": []
    },
    {
      "cell_type": "code",
      "metadata": {
        "id": "0HEDfjKu9eEh"
      },
      "source": [
        "import cv2\n",
        "os.chdir('../veriler')\n",
        "test_name_ALL = 'test_images_labels.csv'\n",
        "test_list = []     \n",
        "\n",
        "with open(test_name_ALL, 'r') as file:\n",
        "    reader = csv.reader(file)\n",
        "    for row in reader:\n",
        "        test_list.append(row)   \n",
        "\n",
        "test_x= np.load('test_images.npy')\n",
        "os.chdir('../testsonuclardensenet')\n",
        "os.getcwd()\n",
        "\n",
        "deneme = list(range(test_x.shape[0]-1))\n",
        "for i in deneme:\n",
        "    A = np.zeros((1,512,512,3))\n",
        "    A[0,:,:,:] = test_x[i,:,:,:]\n",
        "    B = fcDensenet.predict(A)\n",
        "    C = B[:,:,:,0]\n",
        "    D = C>0.5\n",
        "    D = D[0,:,:]\n",
        "    isim = 'sonuc_' + \"densenet\" + '_' +str(test_list[i]) + '.tif'\n",
        "    cv2.imwrite(isim, 255*D)"
      ],
      "execution_count": null,
      "outputs": []
    },
    {
      "cell_type": "code",
      "metadata": {
        "id": "c7AmkcI2-jgL"
      },
      "source": [
        ""
      ],
      "execution_count": null,
      "outputs": []
    }
  ]
}