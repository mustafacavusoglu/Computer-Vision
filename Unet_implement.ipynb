{
  "nbformat": 4,
  "nbformat_minor": 0,
  "metadata": {
    "colab": {
      "name": "Unet_implement.ipynb",
      "provenance": [],
      "collapsed_sections": [],
      "authorship_tag": "ABX9TyOfVy+xdbgIYUewj0oAbzTB",
      "include_colab_link": true
    },
    "kernelspec": {
      "name": "python3",
      "display_name": "Python 3"
    },
    "accelerator": "GPU"
  },
  "cells": [
    {
      "cell_type": "markdown",
      "metadata": {
        "id": "view-in-github",
        "colab_type": "text"
      },
      "source": [
        "<a href=\"https://colab.research.google.com/github/mustafacavusoglu/Computer-Vision/blob/main/Unet_implement.ipynb\" target=\"_parent\"><img src=\"https://colab.research.google.com/assets/colab-badge.svg\" alt=\"Open In Colab\"/></a>"
      ]
    },
    {
      "cell_type": "code",
      "metadata": {
        "id": "cxoxQoSgJsFk",
        "colab": {
          "base_uri": "https://localhost:8080/"
        },
        "outputId": "059753b3-8452-4622-e096-253c95d7d91d"
      },
      "source": [
        "from google.colab import drive\n",
        "drive.mount('/content/drive')"
      ],
      "execution_count": null,
      "outputs": [
        {
          "output_type": "stream",
          "text": [
            "Mounted at /content/drive\n"
          ],
          "name": "stdout"
        }
      ]
    },
    {
      "cell_type": "code",
      "metadata": {
        "colab": {
          "base_uri": "https://localhost:8080/"
        },
        "id": "vazufwXDPHaq",
        "outputId": "a2106d3b-62c9-49db-bacc-38b7d7781b12"
      },
      "source": [
        "!nvidia-smi -L"
      ],
      "execution_count": null,
      "outputs": [
        {
          "output_type": "stream",
          "text": [
            "GPU 0: Tesla P100-PCIE-16GB (UUID: GPU-d977e794-801c-3a65-2cd2-2fe83043d501)\n"
          ],
          "name": "stdout"
        }
      ]
    },
    {
      "cell_type": "code",
      "metadata": {
        "colab": {
          "base_uri": "https://localhost:8080/"
        },
        "id": "ecDGgjdthGmX",
        "outputId": "b596fc80-2c8c-45f2-8cce-1bee54ffa3a9"
      },
      "source": [
        "# memory footprint support libraries/code\r\n",
        "!ln -sf /opt/bin/nvidia-smi /usr/bin/nvidia-smi\r\n",
        "!pip install gputil\r\n",
        "import GPUtil as GPU\r\n",
        "GPUs = GPU.getGPUs()\r\n",
        "gpu = GPUs[0]\r\n",
        "print(\"GPU RAM Free: {0:.0f}MB | Used: {1:.0f}MB | Util {2:3.0f}% | Total {3:.0f}MB\".format(gpu.memoryFree, gpu.memoryUsed, gpu.memoryUtil*100, gpu.memoryTotal))\r\n"
      ],
      "execution_count": null,
      "outputs": [
        {
          "output_type": "stream",
          "text": [
            "Requirement already satisfied: gputil in /usr/local/lib/python3.6/dist-packages (1.4.0)\n",
            "GPU RAM Free: 16280MB | Used: 0MB | Util   0% | Total 16280MB\n"
          ],
          "name": "stdout"
        }
      ]
    },
    {
      "cell_type": "code",
      "metadata": {
        "id": "8c1Q5WE4MEGs",
        "colab": {
          "base_uri": "https://localhost:8080/"
        },
        "outputId": "07a5024c-7a42-4d3b-95f7-424718a76c88"
      },
      "source": [
        "import os \n",
        "os.chdir('drive/My Drive/ColabNotebooks/unet_uydu/veriler')\n",
        "dosyalar = os.listdir()\n",
        "print(dosyalar)"
      ],
      "execution_count": null,
      "outputs": [
        {
          "output_type": "stream",
          "text": [
            "['test_images.npy', 'test_images_labels.csv', 'train_images.npy', 'validation_images.npy', 'train_images_labels.csv', 'validation_images_labels.csv', 'train_labels.npy', 'validation_labels.npy', 'test_images_labels.gsheet', 'standart_unet.json', 'test_labels.npy', 'Setting.txt']\n"
          ],
          "name": "stdout"
        }
      ]
    },
    {
      "cell_type": "code",
      "metadata": {
        "id": "I-C0AFAxMlY_"
      },
      "source": [
        "from __future__ import absolute_import\n",
        "from __future__ import print_function\n",
        "import os\n",
        "import keras.models as models\n",
        "from keras.models import load_model\n",
        "from keras.layers.core import Dense, Dropout, Activation, Flatten, Reshape, Permute\n",
        "from keras.layers.convolutional import Convolution2D, MaxPooling2D, UpSampling2D, ZeroPadding2D\n",
        "from keras.layers.normalization import BatchNormalization\n",
        "from keras.preprocessing.image import ImageDataGenerator\n",
        "from keras.models import Model\n",
        "from keras.layers import Input, concatenate, Conv2D, MaxPooling2D, Activation, UpSampling2D, BatchNormalization\n",
        "from keras.optimizers import RMSprop,Adam,SGD\n",
        "from keras import backend as K\n",
        "import cv2\n",
        "import numpy as np\n",
        "import json"
      ],
      "execution_count": null,
      "outputs": []
    },
    {
      "cell_type": "code",
      "metadata": {
        "id": "BOOTdF8Oqlis"
      },
      "source": [
        "def get_unet_512(input_shape=(512, 512, 3),num_classes=2,lr=0.002):\n",
        "    inputs = Input(shape=input_shape)\n",
        "    # 512\n",
        "\n",
        "    down0a = Conv2D(64, (3, 3), padding='same')(inputs)\n",
        "    down0a = BatchNormalization()(down0a)\n",
        "    down0a = Activation('relu')(down0a)\n",
        "    down0a = Conv2D(64, (3, 3), padding='same')(down0a)\n",
        "    down0a = BatchNormalization()(down0a)\n",
        "    down0a = Activation('relu')(down0a)\n",
        "    down0a_pool = MaxPooling2D((2, 2), strides=(2, 2))(down0a)\n",
        "    # 256\n",
        "\n",
        "    down0 = Conv2D(128, (3, 3), padding='same')(down0a_pool)\n",
        "    down0 = BatchNormalization()(down0)\n",
        "    down0 = Activation('relu')(down0)\n",
        "    down0 = Conv2D(128, (3, 3), padding='same')(down0)\n",
        "    down0 = BatchNormalization()(down0)\n",
        "    down0 = Activation('relu')(down0)\n",
        "    down0_pool = MaxPooling2D((2, 2), strides=(2, 2))(down0)\n",
        "    # 128\n",
        "\n",
        "    down1 = Conv2D(256, (3, 3), padding='same')(down0_pool)\n",
        "    down1 = BatchNormalization()(down1)\n",
        "    down1 = Activation('relu')(down1)\n",
        "    down1 = Conv2D(256, (3, 3), padding='same')(down1)\n",
        "    down1 = BatchNormalization()(down1)\n",
        "    down1 = Activation('relu')(down1)\n",
        "    down1_pool = MaxPooling2D((2, 2), strides=(2, 2))(down1)\n",
        "    # 64\n",
        "\n",
        "    down2 = Conv2D(512, (3, 3), padding='same')(down1_pool)\n",
        "    down2 = BatchNormalization()(down2)\n",
        "    down2 = Activation('relu')(down2)\n",
        "    down2 = Conv2D(512, (3, 3), padding='same')(down2)\n",
        "    down2 = BatchNormalization()(down2)\n",
        "    down2 = Activation('relu')(down2)\n",
        "    down2_pool = MaxPooling2D((2, 2), strides=(2, 2))(down2)\n",
        "    # 32\n",
        "\n",
        "    center = Conv2D(1024, (3, 3), padding='same')(down2_pool)\n",
        "    center = BatchNormalization()(center)\n",
        "    center = Activation('relu')(center)\n",
        "    center = Conv2D(1024, (3, 3), padding='same')(center)\n",
        "    center = BatchNormalization()(center)\n",
        "    center = Activation('relu')(center)\n",
        "    # center\n",
        "\n",
        "    up4 = UpSampling2D((2, 2))(center)\n",
        "    up4 = concatenate([down2, up4], axis=3)\n",
        "    up4 = Conv2D(512, (3, 3), padding='same')(up4)\n",
        "    up4 = BatchNormalization()(up4)\n",
        "    up4 = Activation('relu')(up4)\n",
        "    up4 = Conv2D(512, (3, 3), padding='same')(up4)\n",
        "    up4 = BatchNormalization()(up4)\n",
        "    up4 = Activation('relu')(up4)\n",
        "    # 16\n",
        "\n",
        "    up3 = UpSampling2D((2, 2))(up4)\n",
        "    up3 = concatenate([down1, up3], axis=3)\n",
        "    up3 = Conv2D(256, (3, 3), padding='same')(up3)\n",
        "    up3 = BatchNormalization()(up3)\n",
        "    up3 = Activation('relu')(up3)\n",
        "    up3 = Conv2D(256, (3, 3), padding='same')(up3)\n",
        "    up3 = BatchNormalization()(up3)\n",
        "    up3 = Activation('relu')(up3)\n",
        "    # 32\n",
        "\n",
        "    up2 = UpSampling2D((2, 2))(up3)\n",
        "    up2 = concatenate([down0, up2], axis=3)\n",
        "    up2 = Conv2D(128, (3, 3), padding='same')(up2)\n",
        "    up2 = BatchNormalization()(up2)\n",
        "    up2 = Activation('relu')(up2)\n",
        "    up2 = Conv2D(128, (3, 3), padding='same')(up2)\n",
        "    up2 = BatchNormalization()(up2)\n",
        "    up2 = Activation('relu')(up2)\n",
        "    # 64\n",
        "\n",
        "    up1 = UpSampling2D((2, 2))(up2)\n",
        "    up1 = concatenate([down0a, up1], axis=3)\n",
        "    up1 = Conv2D(64, (3, 3), padding='same')(up1)\n",
        "    up1 = BatchNormalization()(up1)\n",
        "    up1 = Activation('relu')(up1)\n",
        "    up1 = Conv2D(64, (3, 3), padding='same')(up1)\n",
        "    up1 = BatchNormalization()(up1)\n",
        "    up1 = Activation('relu')(up1)\n",
        "    # 128\n",
        "\n",
        "    # classify\n",
        "    classify = Conv2D(num_classes, (1, 1), activation='sigmoid')(up1)\n",
        "\n",
        "    model = Model(inputs=inputs, outputs=classify)\n",
        "\n",
        "    #optimizer = Adam(learning_rate=lr)\n",
        "    optimizer = RMSprop(learning_rate=lr)\n",
        "    \n",
        "    model.compile(loss=\"binary_crossentropy\",optimizer=optimizer, metrics=[\"accuracy\"])\n",
        "\n",
        "\n",
        "    return model"
      ],
      "execution_count": null,
      "outputs": []
    },
    {
      "cell_type": "code",
      "metadata": {
        "id": "o1U5cWJQTVvA"
      },
      "source": [
        "segnet_basic = get_unet_512(input_shape=(512, 512, 3), num_classes=2)\n",
        "#segnet_basic.summary()\n",
        "\n",
        "model_json = segnet_basic.to_json()\n",
        "with open('standart_unet.json', 'w') as json_file:\n",
        "    json_file.write(model_json)"
      ],
      "execution_count": null,
      "outputs": []
    },
    {
      "cell_type": "code",
      "metadata": {
        "id": "AnuyxGGQTgxu"
      },
      "source": [
        "from keras.models import model_from_json\n",
        "from keras.callbacks import ModelCheckpoint\n",
        "import numpy as np\n",
        "import pandas as pd\n",
        "from keras.optimizers import Adam\n",
        "import matplotlib.pyplot as plt"
      ],
      "execution_count": null,
      "outputs": []
    },
    {
      "cell_type": "code",
      "metadata": {
        "id": "1EjWriN9T285",
        "colab": {
          "base_uri": "https://localhost:8080/"
        },
        "outputId": "30b75cc8-2469-4d0f-f8f0-16fec7a93a09"
      },
      "source": [
        "# model = 'standart_unet'\n",
        "\n",
        "# path = model + '.json'\n",
        "\n",
        "# json_file = open(path, 'r')\n",
        "# loaded_model_json = json_file.read()\n",
        "# json_file.close()\n",
        "# segnet_basic = model_from_json(loaded_model_json)\n",
        "# os.chdir(\"../veriler\")\n",
        "train_x= np.load('train_images.npy')\n",
        "train_y= np.load('train_labels.npy')\n",
        "\n",
        "val_x= np.load('validation_images.npy')\n",
        "val_y= np.load('validation_labels.npy')\n",
        "\n",
        "print(train_x.shape)\n",
        "print(train_y.shape)"
      ],
      "execution_count": null,
      "outputs": [
        {
          "output_type": "stream",
          "text": [
            "(825, 512, 512, 3)\n",
            "(825, 512, 512, 2)\n"
          ],
          "name": "stdout"
        }
      ]
    },
    {
      "cell_type": "code",
      "metadata": {
        "colab": {
          "base_uri": "https://localhost:8080/",
          "height": 286
        },
        "id": "k0hfu4z4WHFt",
        "outputId": "64cec433-225d-44ba-c53c-ce5bb3ff1c49"
      },
      "source": [
        "plt.imshow(train_y[15,:,:,0])"
      ],
      "execution_count": null,
      "outputs": [
        {
          "output_type": "execute_result",
          "data": {
            "text/plain": [
              "<matplotlib.image.AxesImage at 0x7f5f98b1b400>"
            ]
          },
          "metadata": {
            "tags": []
          },
          "execution_count": 19
        },
        {
          "output_type": "display_data",
          "data": {
            "image/png": "[encoded data removed]",
            "text/plain": [
              "<Figure size 432x288 with 1 Axes>"
            ]
          },
          "metadata": {
            "tags": [],
            "needs_background": "light"
          }
        }
      ]
    },
    {
      "cell_type": "code",
      "metadata": {
        "id": "Yo_LAggeVID6",
        "colab": {
          "base_uri": "https://localhost:8080/",
          "height": 35
        },
        "outputId": "67466015-ec8d-4b17-c363-a85c391085b4"
      },
      "source": [
        "os.chdir(\"../testSonuclar\")\n",
        "os.getcwd()"
      ],
      "execution_count": null,
      "outputs": [
        {
          "output_type": "execute_result",
          "data": {
            "application/vnd.google.colaboratory.intrinsic+json": {
              "type": "string"
            },
            "text/plain": [
              "'/content/drive/My Drive/ColabNotebooks/unet_uydu/testSonuclar'"
            ]
          },
          "metadata": {
            "tags": []
          },
          "execution_count": 21
        }
      ]
    },
    {
      "cell_type": "code",
      "metadata": {
        "id": "FmYv-TlrgGeq",
        "colab": {
          "base_uri": "https://localhost:8080/",
          "height": 286
        },
        "outputId": "df9b2610-ae08-451a-e926-d9ea4983867f"
      },
      "source": [
        "import cv2\n",
        "a = cv2.imread(\"sonuc_standart_unet_['test_85.tif'].tif\")\n",
        "plt.imshow(a[:,:,2])"
      ],
      "execution_count": null,
      "outputs": [
        {
          "output_type": "execute_result",
          "data": {
            "text/plain": [
              "<matplotlib.image.AxesImage at 0x7f5f8fa7fe48>"
            ]
          },
          "metadata": {
            "tags": []
          },
          "execution_count": 23
        },
        {
          "output_type": "display_data",
          "data": {
            "image/png": "[encoded data removed]",
            "text/plain": [
              "<Figure size 432x288 with 1 Axes>"
            ]
          },
          "metadata": {
            "tags": [],
            "needs_background": "light"
          }
        }
      ]
    },
    {
      "cell_type": "code",
      "metadata": {
        "id": "zNeUufno4QPx",
        "colab": {
          "base_uri": "https://localhost:8080/",
          "height": 405
        },
        "outputId": "22ceaca9-e828-44d3-8cbd-e3188b519c96"
      },
      "source": [
        "from sklearn.model_selection import GridSearchCV\n",
        "from keras.wrappers.scikit_learn import KerasClassifier\n",
        "\n",
        "\n",
        "\n",
        "model = KerasClassifier(build_fn=get_unet_512, epochs = 10, batch_size = 1,verbose=0)\n",
        " \n",
        "lr = [0.03,0.05,0.002,0.003,0.005]\n",
        "\n",
        "param_grid = dict(lr=lr)\n",
        "\n",
        "grid = GridSearchCV(estimator=model, param_grid=param_grid, n_jobs = -1, scoring=\"accuracy\", cv=3)\n",
        "\n",
        "x_train = train_x\n",
        "y_train = train_y\n",
        "\n",
        "grid_result = grid.fit(x_train, y_train)\n",
        "              \n",
        "best_params = grid_result.best_params_\n",
        "best_score = grid_result.best_score_\n",
        "\n",
        "print(best_params)\n",
        "print(best_score)"
      ],
      "execution_count": null,
      "outputs": [
        {
          "output_type": "stream",
          "text": [
            "(825, 512, 512, 2)\n"
          ],
          "name": "stdout"
        },
        {
          "output_type": "error",
          "ename": "ValueError",
          "evalue": "ignored",
          "traceback": [
            "\u001b[0;31m---------------------------------------------------------------------------\u001b[0m",
            "\u001b[0;31mValueError\u001b[0m                                Traceback (most recent call last)",
            "\u001b[0;32m<ipython-input-26-63daa213536b>\u001b[0m in \u001b[0;36m<module>\u001b[0;34m()\u001b[0m\n\u001b[1;32m     30\u001b[0m \u001b[0;31m# print(y_train.shape)\u001b[0m\u001b[0;34m\u001b[0m\u001b[0;34m\u001b[0m\u001b[0;34m\u001b[0m\u001b[0m\n\u001b[1;32m     31\u001b[0m \u001b[0;34m\u001b[0m\u001b[0m\n\u001b[0;32m---> 32\u001b[0;31m \u001b[0mgrid_result\u001b[0m \u001b[0;34m=\u001b[0m \u001b[0mgrid\u001b[0m\u001b[0;34m.\u001b[0m\u001b[0mfit\u001b[0m\u001b[0;34m(\u001b[0m\u001b[0mx_train\u001b[0m\u001b[0;34m,\u001b[0m \u001b[0my_train\u001b[0m\u001b[0;34m)\u001b[0m\u001b[0;34m\u001b[0m\u001b[0;34m\u001b[0m\u001b[0m\n\u001b[0m\u001b[1;32m     33\u001b[0m \u001b[0;34m\u001b[0m\u001b[0m\n\u001b[1;32m     34\u001b[0m \u001b[0mbest_params\u001b[0m \u001b[0;34m=\u001b[0m \u001b[0mgrid_result\u001b[0m\u001b[0;34m.\u001b[0m\u001b[0mbest_params_\u001b[0m\u001b[0;34m\u001b[0m\u001b[0;34m\u001b[0m\u001b[0m\n",
            "\u001b[0;32m/usr/local/lib/python3.6/dist-packages/sklearn/model_selection/_search.py\u001b[0m in \u001b[0;36mfit\u001b[0;34m(self, X, y, groups, **fit_params)\u001b[0m\n\u001b[1;32m    737\u001b[0m             \u001b[0mrefit_start_time\u001b[0m \u001b[0;34m=\u001b[0m \u001b[0mtime\u001b[0m\u001b[0;34m.\u001b[0m\u001b[0mtime\u001b[0m\u001b[0;34m(\u001b[0m\u001b[0;34m)\u001b[0m\u001b[0;34m\u001b[0m\u001b[0;34m\u001b[0m\u001b[0m\n\u001b[1;32m    738\u001b[0m             \u001b[0;32mif\u001b[0m \u001b[0my\u001b[0m \u001b[0;32mis\u001b[0m \u001b[0;32mnot\u001b[0m \u001b[0;32mNone\u001b[0m\u001b[0;34m:\u001b[0m\u001b[0;34m\u001b[0m\u001b[0;34m\u001b[0m\u001b[0m\n\u001b[0;32m--> 739\u001b[0;31m                 \u001b[0mself\u001b[0m\u001b[0;34m.\u001b[0m\u001b[0mbest_estimator_\u001b[0m\u001b[0;34m.\u001b[0m\u001b[0mfit\u001b[0m\u001b[0;34m(\u001b[0m\u001b[0mX\u001b[0m\u001b[0;34m,\u001b[0m \u001b[0my\u001b[0m\u001b[0;34m,\u001b[0m \u001b[0;34m**\u001b[0m\u001b[0mfit_params\u001b[0m\u001b[0;34m)\u001b[0m\u001b[0;34m\u001b[0m\u001b[0;34m\u001b[0m\u001b[0m\n\u001b[0m\u001b[1;32m    740\u001b[0m             \u001b[0;32melse\u001b[0m\u001b[0;34m:\u001b[0m\u001b[0;34m\u001b[0m\u001b[0;34m\u001b[0m\u001b[0m\n\u001b[1;32m    741\u001b[0m                 \u001b[0mself\u001b[0m\u001b[0;34m.\u001b[0m\u001b[0mbest_estimator_\u001b[0m\u001b[0;34m.\u001b[0m\u001b[0mfit\u001b[0m\u001b[0;34m(\u001b[0m\u001b[0mX\u001b[0m\u001b[0;34m,\u001b[0m \u001b[0;34m**\u001b[0m\u001b[0mfit_params\u001b[0m\u001b[0;34m)\u001b[0m\u001b[0;34m\u001b[0m\u001b[0;34m\u001b[0m\u001b[0m\n",
            "\u001b[0;32m/usr/local/lib/python3.6/dist-packages/tensorflow/python/keras/wrappers/scikit_learn.py\u001b[0m in \u001b[0;36mfit\u001b[0;34m(self, x, y, **kwargs)\u001b[0m\n\u001b[1;32m    219\u001b[0m       \u001b[0my\u001b[0m \u001b[0;34m=\u001b[0m \u001b[0mnp\u001b[0m\u001b[0;34m.\u001b[0m\u001b[0msearchsorted\u001b[0m\u001b[0;34m(\u001b[0m\u001b[0mself\u001b[0m\u001b[0;34m.\u001b[0m\u001b[0mclasses_\u001b[0m\u001b[0;34m,\u001b[0m \u001b[0my\u001b[0m\u001b[0;34m)\u001b[0m\u001b[0;34m\u001b[0m\u001b[0;34m\u001b[0m\u001b[0m\n\u001b[1;32m    220\u001b[0m     \u001b[0;32melse\u001b[0m\u001b[0;34m:\u001b[0m\u001b[0;34m\u001b[0m\u001b[0;34m\u001b[0m\u001b[0m\n\u001b[0;32m--> 221\u001b[0;31m       \u001b[0;32mraise\u001b[0m \u001b[0mValueError\u001b[0m\u001b[0;34m(\u001b[0m\u001b[0;34m'Invalid shape for y: '\u001b[0m \u001b[0;34m+\u001b[0m \u001b[0mstr\u001b[0m\u001b[0;34m(\u001b[0m\u001b[0my\u001b[0m\u001b[0;34m.\u001b[0m\u001b[0mshape\u001b[0m\u001b[0;34m)\u001b[0m\u001b[0;34m)\u001b[0m\u001b[0;34m\u001b[0m\u001b[0;34m\u001b[0m\u001b[0m\n\u001b[0m\u001b[1;32m    222\u001b[0m     \u001b[0mself\u001b[0m\u001b[0;34m.\u001b[0m\u001b[0mn_classes_\u001b[0m \u001b[0;34m=\u001b[0m \u001b[0mlen\u001b[0m\u001b[0;34m(\u001b[0m\u001b[0mself\u001b[0m\u001b[0;34m.\u001b[0m\u001b[0mclasses_\u001b[0m\u001b[0;34m)\u001b[0m\u001b[0;34m\u001b[0m\u001b[0;34m\u001b[0m\u001b[0m\n\u001b[1;32m    223\u001b[0m     \u001b[0;32mreturn\u001b[0m \u001b[0msuper\u001b[0m\u001b[0;34m(\u001b[0m\u001b[0mKerasClassifier\u001b[0m\u001b[0;34m,\u001b[0m \u001b[0mself\u001b[0m\u001b[0;34m)\u001b[0m\u001b[0;34m.\u001b[0m\u001b[0mfit\u001b[0m\u001b[0;34m(\u001b[0m\u001b[0mx\u001b[0m\u001b[0;34m,\u001b[0m \u001b[0my\u001b[0m\u001b[0;34m,\u001b[0m \u001b[0;34m**\u001b[0m\u001b[0mkwargs\u001b[0m\u001b[0;34m)\u001b[0m\u001b[0;34m\u001b[0m\u001b[0;34m\u001b[0m\u001b[0m\n",
            "\u001b[0;31mValueError\u001b[0m: Invalid shape for y: (825, 512, 512, 2)"
          ]
        }
      ]
    },
    {
      "cell_type": "code",
      "metadata": {
        "id": "zsBfFTgBUaQE",
        "colab": {
          "base_uri": "https://localhost:8080/"
        },
        "outputId": "7dd324de-4e24-4041-99b8-211efdd6141a"
      },
      "source": [
        "#opt = Adam(lr=0.05, beta_1=0.5)\n",
        "\n",
        "segnet_basic.compile(loss=\"binary_crossentropy\", optimizer='adam', metrics=[\"accuracy\"])\n",
        "#model.compile(loss=\"binary_crossentropy\",optimizer=optimizer, metrics=[\"accuracy\"])\n",
        "\n",
        "segnet_basic = get_unet_512()\n",
        "model = \"segnet_basic\"\n",
        "\n",
        "segnet_basic.compile(loss=\"binary_crossentropy\", optimizer='adam', metrics=[\"accuracy\"])\n",
        "\n",
        "\n",
        "filepath=model + 'weights--{epoch:02d}.hdf5'\n",
        "checkpoint = ModelCheckpoint(filepath, monitor='val_loss', verbose=1, save_best_only=False, save_weights_only=True, period=1)\n",
        "\n",
        "callbacks_list = [checkpoint]\n",
        "\n",
        "nb_epoch = 10\n",
        "batch_size = 2\n",
        "\n",
        "\n",
        "history = segnet_basic.fit(train_x, train_y, \n",
        "                 batch_size=batch_size, \n",
        "                 callbacks=callbacks_list,\n",
        "                 epochs=nb_epoch, verbose=1,\n",
        "                 validation_data=(val_x, val_y)\n",
        "                 )"
      ],
      "execution_count": null,
      "outputs": [
        {
          "output_type": "stream",
          "text": [
            "WARNING:tensorflow:`period` argument is deprecated. Please use `save_freq` to specify the frequency in number of batches seen.\n",
            "Epoch 1/10\n",
            "413/413 [==============================] - ETA: 0s - loss: 0.1353 - accuracy: 0.9687\n",
            "Epoch 00001: saving model to segnet_basicweights--01.hdf5\n",
            "413/413 [==============================] - 126s 306ms/step - loss: 0.1353 - accuracy: 0.9687 - val_loss: 0.4147 - val_accuracy: 0.9137\n",
            "Epoch 2/10\n",
            "413/413 [==============================] - ETA: 0s - loss: 0.0850 - accuracy: 0.9808\n",
            "Epoch 00002: saving model to segnet_basicweights--02.hdf5\n",
            "413/413 [==============================] - 125s 302ms/step - loss: 0.0850 - accuracy: 0.9808 - val_loss: 0.1536 - val_accuracy: 0.9713\n",
            "Epoch 3/10\n",
            "413/413 [==============================] - ETA: 0s - loss: 0.0736 - accuracy: 0.9829\n",
            "Epoch 00003: saving model to segnet_basicweights--03.hdf5\n",
            "413/413 [==============================] - 124s 301ms/step - loss: 0.0736 - accuracy: 0.9829 - val_loss: 0.1799 - val_accuracy: 0.9722\n",
            "Epoch 4/10\n",
            "413/413 [==============================] - ETA: 0s - loss: 0.0651 - accuracy: 0.9874\n",
            "Epoch 00004: saving model to segnet_basicweights--04.hdf5\n",
            "413/413 [==============================] - 124s 301ms/step - loss: 0.0651 - accuracy: 0.9874 - val_loss: 0.1314 - val_accuracy: 0.9911\n",
            "Epoch 5/10\n",
            "413/413 [==============================] - ETA: 0s - loss: 0.0528 - accuracy: 0.9883\n",
            "Epoch 00005: saving model to segnet_basicweights--05.hdf5\n",
            "413/413 [==============================] - 124s 301ms/step - loss: 0.0528 - accuracy: 0.9883 - val_loss: 0.1402 - val_accuracy: 0.9888\n",
            "Epoch 6/10\n",
            "413/413 [==============================] - ETA: 0s - loss: 0.0636 - accuracy: 0.9870\n",
            "Epoch 00006: saving model to segnet_basicweights--06.hdf5\n",
            "413/413 [==============================] - 124s 301ms/step - loss: 0.0636 - accuracy: 0.9870 - val_loss: 0.1527 - val_accuracy: 0.9873\n",
            "Epoch 7/10\n",
            "413/413 [==============================] - ETA: 0s - loss: 0.0552 - accuracy: 0.9896\n",
            "Epoch 00007: saving model to segnet_basicweights--07.hdf5\n",
            "413/413 [==============================] - 124s 301ms/step - loss: 0.0552 - accuracy: 0.9896 - val_loss: 0.6369 - val_accuracy: 0.8803\n",
            "Epoch 8/10\n",
            "413/413 [==============================] - ETA: 0s - loss: 0.0563 - accuracy: 0.9886\n",
            "Epoch 00008: saving model to segnet_basicweights--08.hdf5\n",
            "413/413 [==============================] - 124s 301ms/step - loss: 0.0563 - accuracy: 0.9886 - val_loss: 0.1235 - val_accuracy: 0.9668\n",
            "Epoch 9/10\n",
            "413/413 [==============================] - ETA: 0s - loss: 0.0564 - accuracy: 0.9864\n",
            "Epoch 00009: saving model to segnet_basicweights--09.hdf5\n",
            "413/413 [==============================] - 124s 301ms/step - loss: 0.0564 - accuracy: 0.9864 - val_loss: 0.1270 - val_accuracy: 0.9885\n",
            "Epoch 10/10\n",
            "413/413 [==============================] - ETA: 0s - loss: 0.0668 - accuracy: 0.9861\n",
            "Epoch 00010: saving model to segnet_basicweights--10.hdf5\n",
            "413/413 [==============================] - 124s 301ms/step - loss: 0.0668 - accuracy: 0.9861 - val_loss: 0.1678 - val_accuracy: 0.9883\n"
          ],
          "name": "stdout"
        }
      ]
    },
    {
      "cell_type": "code",
      "metadata": {
        "id": "Ns1lBh1YVYXk",
        "colab": {
          "base_uri": "https://localhost:8080/",
          "height": 294
        },
        "outputId": "897120ea-deab-42f8-bf32-5479a256f328"
      },
      "source": [
        "os.chdir(\"../sonucGrafik\")\n",
        "hist_df = pd.DataFrame(history.history) \n",
        "hist_csv_file = model + '_history.csv'\n",
        "with open(hist_csv_file, mode='w') as f:\n",
        "    hist_df.to_csv(f)\n",
        "    \n",
        "plt.plot(history.history['accuracy'])\n",
        "plt.plot(history.history['val_accuracy'])\n",
        "plt.title('Model Accuracy')\n",
        "plt.ylabel('Accuracy')\n",
        "plt.xlabel('Epoch')\n",
        "plt.legend(['Train', 'Validation'], loc='upper left')\n",
        "isim_fig = model + '_fig_acc.png'\n",
        "plt.savefig(isim_fig)"
      ],
      "execution_count": null,
      "outputs": [
        {
          "output_type": "display_data",
          "data": {
            "image/png": "[encoded data removed]",
            "text/plain": [
              "<Figure size 432x288 with 1 Axes>"
            ]
          },
          "metadata": {
            "tags": [],
            "needs_background": "light"
          }
        }
      ]
    },
    {
      "cell_type": "code",
      "metadata": {
        "id": "_HcCAqkJhTZb"
      },
      "source": [
        "os.chdir(\"../testSonuclar\")\n",
        "import csv\n",
        "import keras\n",
        "from keras.models import model_from_json\n",
        "from sklearn.utils import class_weight"
      ],
      "execution_count": null,
      "outputs": []
    },
    {
      "cell_type": "code",
      "metadata": {
        "id": "uV15zj_hiIU4"
      },
      "source": [
        "model = 'standart_unet'\n",
        "\n",
        "path = model + '.json'\n",
        "os.chdir(\"../Unet\")\n",
        "\n",
        "json_file = open(path, 'r')\n",
        "loaded_model_json = json_file.read()\n",
        "json_file.close()\n",
        "segnet_basic = model_from_json(loaded_model_json)\n",
        "\n",
        "os.chdir(\"../veriler\")\n",
        "test_x= np.load('test_images.npy')\n",
        "\n",
        "os.chdir(\"../sonuclar\")\n",
        "segnet_basic.load_weights('segnet_basicweights--10.hdf5')\n",
        "\n",
        "os.chdir(\"../veriler\")\n",
        "test_name_ALL = 'test_images_labels.csv'\n",
        "test_list = []     \n",
        "\n",
        "with open(test_name_ALL, 'r') as file:\n",
        "    reader = csv.reader(file)\n",
        "    for row in reader:\n",
        "        test_list.append(row)   \n",
        "\n",
        "\n",
        "\n",
        "os.chdir(\"../testSonuclar\")\n",
        "deneme = list(range(test_x.shape[0]-1))\n",
        "\n",
        "for i in deneme:\n",
        "    A = np.zeros((1,512,512,3))\n",
        "    A[0,:,:,:] = test_x[i,:,:,:]\n",
        "    B = segnet_basic.predict(A)\n",
        "    C = B[:,:,:,0]\n",
        "    D = C>0.5\n",
        "    D = D[0,:,:]\n",
        "    isim = 'sonuc_' + model + '_' +str(test_list[i]) + '.tif'\n",
        "    cv2.imwrite(isim, 255*D)"
      ],
      "execution_count": null,
      "outputs": []
    },
    {
      "cell_type": "code",
      "metadata": {
        "id": "9Yl8KtBQjaHN"
      },
      "source": [
        "path = r'/content/drive/My Drive/ColabNotebooks/unet_uydu/testSonuclar'\n",
        "\n",
        "os.chdir(path)\n",
        "\n",
        "os.getcwd()\n",
        "\n",
        "dosya = os.listdir(path)\n",
        "\n",
        "boyut = 512\n",
        "sayi = len(dosya)\n",
        "\n",
        "\n",
        "images = np.zeros((sayi,boyut,boyut),dtype=np.uint8)\n",
        "\n",
        "i = -1\n",
        "for data in dosya:\n",
        "    i = i + 1\n",
        "    im=cv2.imread(data,-1)\n",
        "    np_im=np.asarray(im)\n",
        "    images[i,:,:] = np_im\n",
        "os.chdir(\"../sonuclar\")\n",
        "np_images=np.asarray(images)\n",
        "np.save('Numpy_Sonuclar_Unet.npy',np_images)"
      ],
      "execution_count": null,
      "outputs": []
    },
    {
      "cell_type": "code",
      "metadata": {
        "id": "CP5XRY9hulBZ",
        "colab": {
          "base_uri": "https://localhost:8080/"
        },
        "outputId": "4193238f-434f-4d42-b075-81fd2fbfdca7"
      },
      "source": [
        "from sklearn.metrics import f1_score\n",
        "from sklearn.metrics import jaccard_score\n",
        "from sklearn.metrics import precision_score\n",
        "from sklearn.metrics import recall_score\n",
        "import numpy as np\n",
        "\n",
        "os.chdir(\"../veriler\")\n",
        "label = np.load('test_labels.npy')\n",
        "os.chdir(\"../sonuclar\")\n",
        "sonuc = np.load('Numpy_Sonuclar_Unet.npy')\n",
        "\n",
        "label = label[:,:,:,0]\n",
        "label = label > 0.5\n",
        "label = label.ravel()\n",
        "sonuc = sonuc > 0.5\n",
        "sonuc = sonuc.ravel()\n",
        "\n",
        "print('Accuracy:')\n",
        "print(np.mean(label == sonuc))\n",
        "\n",
        "print('IoU Score (Jaccard Score):')\n",
        "print(jaccard_score(label, sonuc))\n",
        "\n",
        "print('F1 Score:')\n",
        "print(f1_score(label, sonuc))\n",
        "\n",
        "print('Precision:')\n",
        "print(precision_score(label, sonuc))\n",
        "\n",
        "print('Recall:')\n",
        "print(recall_score(label, sonuc))"
      ],
      "execution_count": null,
      "outputs": [
        {
          "output_type": "stream",
          "text": [
            "Accuracy:\n",
            "0.9968596334042756\n",
            "IoU Score (Jaccard Score):\n",
            "0.9935806303996059\n",
            "F1 Score:\n",
            "0.9967799799503934\n",
            "Precision:\n",
            "0.9961973987372366\n",
            "Recall:\n",
            "0.9973632429550703\n"
          ],
          "name": "stdout"
        }
      ]
    },
    {
      "cell_type": "code",
      "metadata": {
        "id": "xhTIgy0a1zwq"
      },
      "source": [
        ""
      ],
      "execution_count": null,
      "outputs": []
    }
  ]
}